{
  "nbformat": 4,
  "nbformat_minor": 0,
  "metadata": {
    "colab": {
      "name": "image classification.ipynb",
      "provenance": []
    },
    "kernelspec": {
      "name": "python3",
      "display_name": "Python 3"
    }
  },
  "cells": [
    {
      "cell_type": "code",
      "metadata": {
        "id": "5ulcv54qq37e",
        "colab": {
          "base_uri": "https://localhost:8080/"
        },
        "outputId": "55d37c46-94de-484b-9e01-5f2460f00b27"
      },
      "source": [
        "!pip install bing-image-downloader"
      ],
      "execution_count": null,
      "outputs": [
        {
          "output_type": "stream",
          "text": [
            "Collecting bing-image-downloader\n",
            "  Downloading https://files.pythonhosted.org/packages/0d/bf/537a61030b84ae4cd5022d5c7b014fd9bc3ce7c02358919153a6658a61d3/bing_image_downloader-1.0.4-py3-none-any.whl\n",
            "Installing collected packages: bing-image-downloader\n",
            "Successfully installed bing-image-downloader-1.0.4\n"
          ],
          "name": "stdout"
        }
      ]
    },
    {
      "cell_type": "code",
      "metadata": {
        "id": "iOrtZ1LyZFYI"
      },
      "source": [
        "!mkdir images"
      ],
      "execution_count": null,
      "outputs": []
    },
    {
      "cell_type": "code",
      "metadata": {
        "colab": {
          "base_uri": "https://localhost:8080/"
        },
        "id": "9ZQc1nI1ZK9F",
        "outputId": "a2912ab1-76f1-44d1-fa2d-c59f4ef178e5"
      },
      "source": [
        "from bing_image_downloader import downloader\r\n",
        "downloader.download(\"pretty sunflower\",limit=30,output_dir='images',adult_filter_off=True)"
      ],
      "execution_count": null,
      "outputs": [
        {
          "output_type": "stream",
          "text": [
            "\n",
            "\n",
            "[!!]Indexing page: 1\n",
            "\n",
            "[%] Indexed 30 Images on Page 1.\n",
            "\n",
            "===============================================\n",
            "\n",
            "[%] Downloading Image #1 from http://4.bp.blogspot.com/-EvQYk5Z2ISQ/TV1Y6C9VAlI/AAAAAAAAADA/0PviOUYUjU8/s1600/Sunflower.jpg\n",
            "[%] File Downloaded !\n",
            "\n",
            "[%] Downloading Image #2 from https://4.bp.blogspot.com/-Uh1HTy66p7I/TkY6vYCvWjI/AAAAAAAAD0c/ny_MXcFowLE/s1600/sunflower_wallpaper_2069.JPG\n",
            "[%] File Downloaded !\n",
            "\n",
            "[%] Downloading Image #3 from https://preppywallpapers.com/wp-content/uploads/2019/08/Sunflower-iPhone-Wallpapers.jpg\n",
            "[%] File Downloaded !\n",
            "\n",
            "[%] Downloading Image #4 from https://cdns.abclocal.go.com/content/wtvd/images/cms/2185472_1280x720.jpg\n",
            "[%] File Downloaded !\n",
            "\n",
            "[%] Downloading Image #5 from http://4.bp.blogspot.com/_W5lGWFz2VV4/TK5PqUu-ZTI/AAAAAAAAA-Q/rQXb9VnKUDc/s1600/_MG_3422+copy.jpg\n",
            "[%] File Downloaded !\n",
            "\n",
            "[%] Downloading Image #6 from http://1.bp.blogspot.com/-OH_vFaXwb7g/UcnPuvey22I/AAAAAAAABSY/khlYIhIDVrg/s1600/sunny-yellow-sunflower-blossom.jpg\n",
            "[%] File Downloaded !\n",
            "\n",
            "[%] Downloading Image #7 from http://www.incrediblesnaps.com/wp-content/uploads/2013/11/Beautiful-Pictures-of-Sunflowers-12.jpg\n",
            "[%] File Downloaded !\n",
            "\n",
            "[%] Downloading Image #8 from https://www.ftd.com/blog/content/uploads/2017/07/hero-types-of-sunflowers.jpg\n",
            "[%] File Downloaded !\n",
            "\n",
            "[%] Downloading Image #9 from http://2.bp.blogspot.com/-QbCRdVsumL8/UZjKhIodDgI/AAAAAAAAA6c/btN4ySJrRF4/s1600/sunflower-blooming-2-051513a.jpg\n",
            "[%] File Downloaded !\n",
            "\n",
            "[%] Downloading Image #10 from http://1.bp.blogspot.com/-VVBj35cflpg/Ucd9SX9sdTI/AAAAAAAABPk/Pxb9E3_jd1U/s1600/pretty-sunflower-blossom.jpg\n",
            "[%] File Downloaded !\n",
            "\n",
            "[%] Downloading Image #11 from http://www.flowerpicturegallery.com/d/542-1/pretty+sunflower.jpg\n",
            "[%] File Downloaded !\n",
            "\n",
            "[%] Downloading Image #12 from http://getwallpapers.com/wallpaper/full/3/0/0/820319-download-sunflowers-wallpaper-2048x1361-lockscreen.jpg\n",
            "[%] File Downloaded !\n",
            "\n",
            "[%] Downloading Image #13 from https://i.pinimg.com/736x/3f/f0/1d/3ff01d5b9f1f16e92197140a31c5345e.jpg\n",
            "[%] File Downloaded !\n",
            "\n",
            "[%] Downloading Image #14 from http://www.photographyblogger.net/wp-content/uploads/2010/10/sunflower11.jpg\n",
            "[%] File Downloaded !\n",
            "\n",
            "[%] Downloading Image #15 from https://www.preppywallpapers.com/wp-content/uploads/2019/08/Sunflower-iPhone-Wallpaper-10.jpg\n",
            "[%] File Downloaded !\n",
            "\n",
            "[%] Downloading Image #16 from http://3.bp.blogspot.com/-XpTUOHTbx8g/Ucd8U8Azp2I/AAAAAAAABPU/zzJA73GCrvw/s1600/2-pretty-sunflower-blossoms.jpg\n",
            "[%] File Downloaded !\n",
            "\n",
            "[%] Downloading Image #17 from http://www.flowerpicturegallery.com/d/540-2/pretty+yellow+sunflowers.jpg\n",
            "[%] File Downloaded !\n",
            "\n",
            "[%] Downloading Image #18 from https://preppywallpapers.com/wp-content/uploads/2019/08/Sunflower-iPhone-Wallpaper-5.jpg\n",
            "[%] File Downloaded !\n",
            "\n",
            "[%] Downloading Image #19 from http://1.bp.blogspot.com/-St6htmxykp0/Ucx54T74MKI/AAAAAAAAWgs/7lY3rxubt1Y/s1280/Sunflowers+Desktop+Wallpapers+%25284%2529.jpg\n",
            "[%] File Downloaded !\n",
            "\n",
            "[%] Downloading Image #20 from http://garden.org/pics/2013-12-19/Newyorkrita/38d0cc.jpg\n",
            "[%] File Downloaded !\n",
            "\n",
            "[%] Downloading Image #21 from http://wallsdesk.com/wp-content/uploads/2017/01/Sunflower-HD-Desktop.jpg\n",
            "[%] File Downloaded !\n",
            "\n",
            "[%] Downloading Image #22 from http://s1.picswalls.com/wallpapers/2014/07/17/sunflower-wallpaper-hd_110757863_53.jpg\n",
            "[%] File Downloaded !\n",
            "\n",
            "[%] Downloading Image #23 from http://upload.wikimedia.org/wikipedia/commons/3/34/Beautiful_sunflowers.jpg\n",
            "[%] File Downloaded !\n",
            "\n",
            "[%] Downloading Image #24 from http://1.bp.blogspot.com/-m9cRfcCCJ1s/UcoM134wAJI/AAAAAAAABXU/KAynEZGN5Ck/s1600/pretty-petite-yellow-sunflower-blossom.jpg\n",
            "[%] File Downloaded !\n",
            "\n",
            "[%] Downloading Image #25 from https://theblissprojectblog.files.wordpress.com/2013/09/189.jpg\n",
            "[%] File Downloaded !\n",
            "\n",
            "[%] Downloading Image #26 from https://i.pinimg.com/736x/23/69/63/23696333831560e5a3853af4d191ff6b--pretty-flowers-sunflowers.jpg\n",
            "[%] File Downloaded !\n",
            "\n",
            "[%] Downloading Image #27 from http://1.bp.blogspot.com/-xwbMTZVNSF8/Ucd9vXUIAZI/AAAAAAAABPs/JFXsmfwC8EE/s1600/impressive-warm-sunflower-blossom.jpg\n",
            "[%] File Downloaded !\n",
            "\n",
            "[%] Downloading Image #28 from http://images.freehdw.com/800/nature-landscapes_hdwallpaper_pretty-sunflowers_8257.jpg\n",
            "[%] File Downloaded !\n",
            "\n",
            "[%] Downloading Image #29 from https://cdn-0.preppywallpapers.com/wp-content/uploads/2019/08/Sunflower-iPhone-Wallpaper-11.jpg\n",
            "[%] File Downloaded !\n",
            "\n",
            "[%] Downloading Image #30 from http://3.bp.blogspot.com/--ShcPhgDlI8/UfOJYMdoxMI/AAAAAAAAG_0/pkfkiw2YE88/s1600/beautiful+Sun+flower+(9).jpg\n",
            "[%] File Downloaded !\n",
            "\n"
          ],
          "name": "stdout"
        }
      ]
    },
    {
      "cell_type": "code",
      "metadata": {
        "colab": {
          "base_uri": "https://localhost:8080/"
        },
        "id": "8W32BBtNbQRe",
        "outputId": "2961a0b8-c34a-403b-e8cc-2f40acf07e5b"
      },
      "source": [
        "downloader.download(\"rugby ball leather\",limit=30,output_dir='images',adult_filter_off=True)"
      ],
      "execution_count": null,
      "outputs": [
        {
          "output_type": "stream",
          "text": [
            "\n",
            "\n",
            "[!!]Indexing page: 1\n",
            "\n",
            "[%] Indexed 30 Images on Page 1.\n",
            "\n",
            "===============================================\n",
            "\n",
            "[%] Downloading Image #1 from https://cdn.shopify.com/s/files/1/0788/5979/products/mvp-leather-balls-heritage-leather-rugby-ball-2_2048x.jpg?v=1550134680\n",
            "[%] File Downloaded !\n",
            "\n",
            "[%] Downloading Image #2 from https://cdn.notonthehighstreet.com/fs/66/7f/caf0-7c5a-45fa-a436-44b52ec027a6/original_ram-rugby-vintage-leather-rugby-ball.jpg\n",
            "[%] File Downloaded !\n",
            "\n",
            "[%] Downloading Image #3 from https://cdn.shopify.com/s/files/1/0788/5979/products/mvp-leather-balls-brown-cream-leather-rugby-ball-1_2048x.jpg?v=1550134649\n",
            "[%] File Downloaded !\n",
            "\n",
            "[%] Downloading Image #4 from https://cdn.shopify.com/s/files/1/0788/5979/products/mvp-leather-balls-heritage-leather-rugby-ball-1_2356x.jpg?v=1550134680\n",
            "[%] File Downloaded !\n",
            "\n",
            "[%] Downloading Image #5 from https://cdn1.bigcommerce.com/server1000/4dd02/images/stencil/1000x1000/products/682/3492/_MG_0374v2__78298.1332357807.jpg?c=2\n",
            "[%] File Downloaded !\n",
            "\n",
            "[%] Downloading Image #6 from http://i.ebayimg.com/images/i/192098916483-0-1/s-l1000.jpg\n",
            "[%] File Downloaded !\n",
            "\n",
            "[%] Downloading Image #7 from https://sportantiques.co.uk/pub/media/catalog/product/2/5/sportantiques-388204978297.jpg\n",
            "[%] File Downloaded !\n",
            "\n",
            "[%] Downloading Image #8 from http://www.webbellisrugby.co.uk/wp-content/uploads/2016/04/leather-rugby-ball-puntabout.jpg\n",
            "[%] File Downloaded !\n",
            "\n",
            "[%] Downloading Image #9 from https://cdn.notonthehighstreet.com/system/product_images/images/000/640/511/original_IMG_4159.jpg\n",
            "[%] File Downloaded !\n",
            "\n",
            "[%] Downloading Image #10 from https://cdn.notonthehighstreet.com/system/product_images/images/000/393/351/original_CF016852.jpg\n",
            "[%] File Downloaded !\n",
            "\n",
            "[%] Downloading Image #11 from https://cdn.shopify.com/s/files/1/0788/5979/products/mvp-leather-balls-executive-leather-rugby-ball-1_2048x.jpg?v=1550134670\n",
            "[%] File Downloaded !\n",
            "\n",
            "[%] Downloading Image #12 from https://www.johnmooresports.co.uk/images/leather-vintage-rugby-ball-p6883-4998_image.jpg\n",
            "[%] File Downloaded !\n",
            "\n",
            "[%] Downloading Image #13 from http://images.esellerpro.com/2718/I/876/62/GIL-82001001%20New.jpg\n",
            "[%] File Downloaded !\n",
            "\n",
            "[%] Downloading Image #14 from https://cdn.shopify.com/s/files/1/0020/1025/1324/products/Vitnage_Brown_Leather_Rugby_Ball_36fcfbe7-d899-4540-9aa6-80ce8e2a0168_1024x1024.jpg?v=1554242167\n",
            "[%] File Downloaded !\n",
            "\n",
            "[%] Downloading Image #15 from https://cdn.shopify.com/s/files/1/0788/5979/products/mvp-leather-balls-black-yellow-leather-rugby-ball-1_2048x.jpg?v=1550134640\n",
            "[%] File Downloaded !\n",
            "\n",
            "[%] Downloading Image #16 from https://images-na.ssl-images-amazon.com/images/I/51bybBBUqPL._SY300_.jpg\n",
            "[%] File Downloaded !\n",
            "\n",
            "[%] Downloading Image #17 from http://img.auctiva.com/imgdata/9/3/4/5/4/4/webimg/666799573_o.jpg\n",
            "[%] File Downloaded !\n",
            "\n",
            "[%] Downloading Image #18 from http://kathykuohome.com/Content/config/product/primary/zoom/product_4496.jpg\n",
            "[%] File Downloaded !\n",
            "\n",
            "[%] Downloading Image #19 from https://made4men.co.uk/WebRoot/Store25/Shops/939ecbb5-7a19-4442-aac2-0e3854fcf7e5/57F5/0012/B119/F91F/B653/0A48/355E/2C1C/LEATHER_RUGBY.jpg\n",
            "[%] File Downloaded !\n",
            "\n",
            "[%] Downloading Image #20 from https://cdn.shopify.com/s/files/1/0788/5979/products/mvp-leather-balls-deluxe-leather-rugby-ball-2_590x.jpg?v=1551767452\n",
            "[%] File Downloaded !\n",
            "\n",
            "[%] Downloading Image #21 from https://www.ruckfield.com/media/catalog/product/cache/2/image/3000x/040ec09b1e35df139433887a97daa66f/1/5/15h_h0002174_066_face.jpg\n",
            "[%] File Downloaded !\n",
            "\n",
            "[%] Downloading Image #22 from https://cdn.shopify.com/s/files/1/0812/3241/products/SON831360_Sonnenleder_Leather_Mini_Rugby_Ball_Nat.jpeg?v=1448135925\n",
            "[%] File Downloaded !\n",
            "\n",
            "[%] Downloading Image #23 from https://cdn.shopify.com/s/files/1/0226/2169/products/Chromexcel_2048x2048_V1_760x.jpg?v=1511272698'\n",
            "[%] File Downloaded !\n",
            "\n",
            "[%] Downloading Image #24 from http://i.ebayimg.com/images/i/201395515854-0-1/s-l1000.jpg\n",
            "[%] File Downloaded !\n",
            "\n",
            "[%] Downloading Image #25 from http://i.ebayimg.com/00/s/MjUwWDE5Ng==/z/H3cAAOxyYSdS-zH9/$_3.JPG?set_id=2\n",
            "[%] File Downloaded !\n",
            "\n",
            "[%] Downloading Image #26 from http://www.imagehandler.net/?iset=0303&amp;img=A62476000&amp;fmt=jpg&amp;w=600&amp;h=600&amp;iindex=0062&amp;c=999&amp;cmp=85\n",
            "[!] Issue getting: http://www.imagehandler.net/?iset=0303&amp;img=A62476000&amp;fmt=jpg&amp;w=600&amp;h=600&amp;iindex=0062&amp;c=999&amp;cmp=85\n",
            "[!] Error:: HTTP Error 403: Forbidden\n",
            "[%] Downloading Image #26 from https://cdn.notonthehighstreet.com/fs/b5/3e/6ccd-c899-432f-8fa0-b66e26dd8de2/original_personalised-vintage-leather-rugby-ball.jpg\n",
            "[%] File Downloaded !\n",
            "\n",
            "[%] Downloading Image #27 from https://cdn1.bigcommerce.com/server1000/4dd02/images/stencil/1000x1000/products/682/3489/_MG_0383__39017.1332357474.jpg?c=2\n",
            "[%] File Downloaded !\n",
            "\n",
            "[%] Downloading Image #28 from https://ae01.alicdn.com/kf/HTB1gM_cdKUXBuNjt_XBq6xeDXXaw/1pc-Rubber-Leather-No-9-Rugby-Ball-American-Football-Training-Ball-Sport-Match-Sport-Standard-Rugby.jpg\n",
            "[%] File Downloaded !\n",
            "\n",
            "[%] Downloading Image #29 from http://cdn.notonthehighstreet.com/fs/8a/45/63d5-72fa-4da4-8ea3-05eb16e124e5/original_vintage-leather-rugby-ball-keyring.jpg\n",
            "[%] File Downloaded !\n",
            "\n",
            "\n",
            "\n",
            "[!!]Indexing page: 2\n",
            "\n",
            "[%] Indexed 35 Images on Page 2.\n",
            "\n",
            "===============================================\n",
            "\n",
            "[%] Downloading Image #30 from https://cdn.shopify.com/s/files/1/0788/5979/products/mvp-leather-balls-heritage-leather-rugby-ball-2_2048x.jpg?v=1550134680\n",
            "[%] File Downloaded !\n",
            "\n",
            "\n",
            "\n",
            "[%] Done. Downloaded 30 images.\n",
            "\n",
            "===============================================\n",
            "\n"
          ],
          "name": "stdout"
        }
      ]
    },
    {
      "cell_type": "code",
      "metadata": {
        "colab": {
          "base_uri": "https://localhost:8080/"
        },
        "id": "dqgiNZk_cFip",
        "outputId": "6ec74492-8941-4a03-b56a-4dc647f860c8"
      },
      "source": [
        "downloader.download(\"ice cream cone\",limit=30,output_dir='images',adult_filter_off=True)"
      ],
      "execution_count": null,
      "outputs": [
        {
          "output_type": "stream",
          "text": [
            "\n",
            "\n",
            "[!!]Indexing page: 1\n",
            "\n",
            "[%] Indexed 30 Images on Page 1.\n",
            "\n",
            "===============================================\n",
            "\n",
            "[%] Downloading Image #1 from http://www.camdenac.com/wp-content/uploads/2017/05/7-scoop-ice-cream-cone.jpg\n",
            "[%] File Downloaded !\n",
            "\n",
            "[%] Downloading Image #2 from https://sugarspunrun.com/wp-content/uploads/2015/08/ice-cream-cupcakes-2.jpg\n",
            "[%] File Downloaded !\n",
            "\n",
            "[%] Downloading Image #3 from https://cmkt-image-prd.freetls.fastly.net/0.1.0/ps/7468873/1820/2862/m1/fpnw/wm1/en4hrj6n9vxfmcipirsxu0rgujs058nqxn3cteatfuq0lbgrwwequzjiisbj3ymi-.jpg?1576506367&amp;s=19603b99a32c1de5c0fd1e690ba16b1f\n",
            "[!] Issue getting: https://cmkt-image-prd.freetls.fastly.net/0.1.0/ps/7468873/1820/2862/m1/fpnw/wm1/en4hrj6n9vxfmcipirsxu0rgujs058nqxn3cteatfuq0lbgrwwequzjiisbj3ymi-.jpg?1576506367&amp;s=19603b99a32c1de5c0fd1e690ba16b1f\n",
            "[!] Error:: HTTP Error 403: Forbidden\n",
            "[%] Downloading Image #3 from https://www.webstaurantstore.com/images/products/extra_large/123922/944570.jpg\n",
            "[%] File Downloaded !\n",
            "\n",
            "[%] Downloading Image #4 from http://bostononbudget.com/wp-content/uploads/2015/05/Friendlys-Ice-Cream-Cone.jpg\n",
            "[%] File Downloaded !\n",
            "\n",
            "[%] Downloading Image #5 from https://cdn3.tmbi.com/secure/RMS/attachments/37/1200x1200/Chocolate-Dipped-Ice-Cream-Cone-Cupcakes_EXPS_HC17_185649_D10_18_7b.jpg\n",
            "[%] File Downloaded !\n",
            "\n",
            "[%] Downloading Image #6 from https://cdnimg.webstaurantstore.com/images/products/large/123848/1914523.jpg\n",
            "[%] File Downloaded !\n",
            "\n",
            "[%] Downloading Image #7 from http://graphics8.nytimes.com/images/2013/06/02/magazine/02wmt/02wmt-superJumbo-v3.jpg\n",
            "[%] File Downloaded !\n",
            "\n",
            "[%] Downloading Image #8 from http://momvstheboys.com/wp-content/uploads/2013/06/ice-cream-cone-cupcakes.jpg\n",
            "[%] File Downloaded !\n",
            "\n",
            "[%] Downloading Image #9 from https://www.cravingsofalunatic.com/wp-content/uploads/2016/03/Ice-Cream-Cone-Cupcakes-3.jpg\n",
            "[%] File Downloaded !\n",
            "\n",
            "[%] Downloading Image #10 from http://www.cravingsofalunatic.com/wp-content/uploads/2016/03/Ice-Cream-Cone-Cupcakes-4.jpg\n",
            "[%] File Downloaded !\n",
            "\n",
            "[%] Downloading Image #11 from https://sugarspunrun.com/wp-content/uploads/2015/08/ice-cream-cupcakes-5.jpg\n",
            "[%] File Downloaded !\n",
            "\n",
            "[%] Downloading Image #12 from https://cdnimg.webstaurantstore.com/images/products/extra_large/42980/455174.jpg\n",
            "[%] File Downloaded !\n",
            "\n",
            "[%] Downloading Image #13 from https://pixfeeds.com/images/desserts/ice-creams/1280-177118229-ice-cream-cone.jpg\n",
            "[%] File Downloaded !\n",
            "\n",
            "[%] Downloading Image #14 from http://4.bp.blogspot.com/-NWgPAda_Mas/VObrOYGy7qI/AAAAAAAAptQ/1u5ijmftcpw/s1600/P1530546.JPG\n",
            "[%] File Downloaded !\n",
            "\n",
            "[%] Downloading Image #15 from https://cmkt-image-prd.freetls.fastly.net/0.1.0/ps/6764199/1820/2513/m1/fpnw/wm1/sktcxnzidikme27mmrf4adkfk0cdxeuiwohfkc0wapszykzutcv9wqttbdonqiwt-.jpg?1564663010&amp;s=01941ff405abf215d3c0ee7c7fe7077a\n",
            "[!] Issue getting: https://cmkt-image-prd.freetls.fastly.net/0.1.0/ps/6764199/1820/2513/m1/fpnw/wm1/sktcxnzidikme27mmrf4adkfk0cdxeuiwohfkc0wapszykzutcv9wqttbdonqiwt-.jpg?1564663010&amp;s=01941ff405abf215d3c0ee7c7fe7077a\n",
            "[!] Error:: HTTP Error 403: Forbidden\n",
            "[%] Downloading Image #15 from https://reneenicoleskitchen.com/wp-content/uploads/2017/05/Dipped-Ice-Cream-Cones-Image-2.jpg\n",
            "[%] File Downloaded !\n",
            "\n",
            "[%] Downloading Image #16 from https://upload.wikimedia.org/wikipedia/commons/d/da/Strawberry_ice_cream_cone_%285076899310%29.jpg\n",
            "[%] File Downloaded !\n",
            "\n",
            "[%] Downloading Image #17 from http://epicureanvegan.files.wordpress.com/2010/08/cimg5831.jpg\n",
            "[%] File Downloaded !\n",
            "\n",
            "[%] Downloading Image #18 from https://gabrielquotes.files.wordpress.com/2012/04/ice-cream-cone-4650355-ji.jpg\n",
            "[%] File Downloaded !\n",
            "\n",
            "[%] Downloading Image #19 from https://cdn-image.foodandwine.com/sites/default/files/1497371785/ice-cream-cones-history-FT-BLOG0617.jpg\n",
            "[%] File Downloaded !\n",
            "\n",
            "[%] Downloading Image #20 from http://shewearsmanyhats.com/wp-content/uploads/2013/07/dipped-ice-cream-cones-1.jpg\n",
            "[%] File Downloaded !\n",
            "\n",
            "[%] Downloading Image #21 from http://3.bp.blogspot.com/-EEeqQAmqgYE/U6OwZ9u8n8I/AAAAAAAADQI/lLS-MMSITak/s1600/Ice+Cream+Cone+Cupcakes+%2528and+some+others%2529+026.JPG\n",
            "[%] File Downloaded !\n",
            "\n",
            "[%] Downloading Image #22 from http://shewearsmanyhats.com/wp-content/uploads/2013/07/dipped-ice-cream-cones-7.jpg\n",
            "[%] File Downloaded !\n",
            "\n",
            "[%] Downloading Image #23 from https://www.procaffenation.com/wp-content/uploads/2017/04/21-compressor-1.jpg\n",
            "[%] File Downloaded !\n",
            "\n",
            "[%] Downloading Image #24 from http://drcrain.files.wordpress.com/2010/11/ice-cream-cone.jpg\n",
            "[%] File Downloaded !\n",
            "\n",
            "[%] Downloading Image #25 from https://sugarspunrun.com/wp-content/uploads/2015/08/ice-cream-cupcakes-10.jpg\n",
            "[%] File Downloaded !\n",
            "\n",
            "[%] Downloading Image #26 from https://www.southernkissed.com/wp-content/uploads/2016/07/Cone-with-Ice-Cream.jpg\n",
            "[%] File Downloaded !\n",
            "\n",
            "[%] Downloading Image #27 from https://americacomesalive.com/i/ice-cream-cone-175x300.jpg\n",
            "[%] File Downloaded !\n",
            "\n",
            "[%] Downloading Image #28 from http://3.bp.blogspot.com/-zFcpbr8dz_A/U6OwfzQDN6I/AAAAAAAADQc/Jvb3YWCkQHI/s1600/Ice+Cream+Cone+Cupcakes+%2528and+some+others%2529+032.JPG\n",
            "[%] File Downloaded !\n",
            "\n",
            "\n",
            "\n",
            "[!!]Indexing page: 2\n",
            "\n",
            "[%] Indexed 35 Images on Page 2.\n",
            "\n",
            "===============================================\n",
            "\n",
            "[%] Downloading Image #29 from https://d2rd7etdn93tqb.cloudfront.net/wp-content/uploads/2016/06/ice-cream-cones-062816.jpg\n",
            "[%] File Downloaded !\n",
            "\n",
            "[%] Downloading Image #30 from http://4.bp.blogspot.com/-NWgPAda_Mas/VObrOYGy7qI/AAAAAAAAptQ/1u5ijmftcpw/s1600/P1530546.JPG\n",
            "[%] File Downloaded !\n",
            "\n",
            "\n",
            "\n",
            "[%] Done. Downloaded 30 images.\n",
            "\n",
            "===============================================\n",
            "\n"
          ],
          "name": "stdout"
        }
      ]
    },
    {
      "cell_type": "code",
      "metadata": {
        "colab": {
          "base_uri": "https://localhost:8080/"
        },
        "id": "fifRYtz5cL3G",
        "outputId": "796a1d28-e4af-4ce6-9784-b5fdfcb79f27"
      },
      "source": [
        "!pip install ipython-autotime\r\n",
        "%load_ext autotime"
      ],
      "execution_count": null,
      "outputs": [
        {
          "output_type": "stream",
          "text": [
            "Collecting ipython-autotime\n",
            "  Downloading https://files.pythonhosted.org/packages/d6/c5/013f5aa3b56c6d2c58634bc979773df44ab2226cf4fa787daf0bfeeea0b4/ipython_autotime-0.3.0-py2.py3-none-any.whl\n",
            "Requirement already satisfied: ipython in /usr/local/lib/python3.6/dist-packages (from ipython-autotime) (5.5.0)\n",
            "Requirement already satisfied: decorator in /usr/local/lib/python3.6/dist-packages (from ipython->ipython-autotime) (4.4.2)\n",
            "Requirement already satisfied: traitlets>=4.2 in /usr/local/lib/python3.6/dist-packages (from ipython->ipython-autotime) (4.3.3)\n",
            "Requirement already satisfied: pickleshare in /usr/local/lib/python3.6/dist-packages (from ipython->ipython-autotime) (0.7.5)\n",
            "Requirement already satisfied: pygments in /usr/local/lib/python3.6/dist-packages (from ipython->ipython-autotime) (2.6.1)\n",
            "Requirement already satisfied: simplegeneric>0.8 in /usr/local/lib/python3.6/dist-packages (from ipython->ipython-autotime) (0.8.1)\n",
            "Requirement already satisfied: pexpect; sys_platform != \"win32\" in /usr/local/lib/python3.6/dist-packages (from ipython->ipython-autotime) (4.8.0)\n",
            "Requirement already satisfied: setuptools>=18.5 in /usr/local/lib/python3.6/dist-packages (from ipython->ipython-autotime) (50.3.2)\n",
            "Requirement already satisfied: prompt-toolkit<2.0.0,>=1.0.4 in /usr/local/lib/python3.6/dist-packages (from ipython->ipython-autotime) (1.0.18)\n",
            "Requirement already satisfied: ipython-genutils in /usr/local/lib/python3.6/dist-packages (from traitlets>=4.2->ipython->ipython-autotime) (0.2.0)\n",
            "Requirement already satisfied: six in /usr/local/lib/python3.6/dist-packages (from traitlets>=4.2->ipython->ipython-autotime) (1.15.0)\n",
            "Requirement already satisfied: ptyprocess>=0.5 in /usr/local/lib/python3.6/dist-packages (from pexpect; sys_platform != \"win32\"->ipython->ipython-autotime) (0.6.0)\n",
            "Requirement already satisfied: wcwidth in /usr/local/lib/python3.6/dist-packages (from prompt-toolkit<2.0.0,>=1.0.4->ipython->ipython-autotime) (0.2.5)\n",
            "Installing collected packages: ipython-autotime\n",
            "Successfully installed ipython-autotime-0.3.0\n",
            "time: 235 µs (started: 2020-12-21 10:37:26 +00:00)\n"
          ],
          "name": "stdout"
        }
      ]
    },
    {
      "cell_type": "code",
      "metadata": {
        "id": "yRfL6PMsICU_"
      },
      "source": [
        ""
      ],
      "execution_count": null,
      "outputs": []
    },
    {
      "cell_type": "code",
      "metadata": {
        "colab": {
          "base_uri": "https://localhost:8080/"
        },
        "id": "5papKLkLcVFI",
        "outputId": "c2eafdbf-7303-44d4-d135-28810e252677"
      },
      "source": [
        "#preprocessing\r\n",
        "#1.Resize\r\n",
        "#2.Flatten\r\n",
        "import os\r\n",
        "import matplotlib.pyplot as plt\r\n",
        "import numpy as np\r\n",
        "from skimage.io import imread\r\n",
        "from skimage.transform import resize\r\n",
        "target=[] #Target is the output.This is a list\r\n",
        "images=[]  #images will be in the form of 2D\r\n",
        "flat_data=[]\r\n",
        "DATADIR='/content/images'\r\n",
        "CATEGORIES=['pretty sunflower','rugby ball leather','ice cream cone']\r\n",
        "for category in CATEGORIES:\r\n",
        "    class_num=CATEGORIES.index(category) #label encoding, while iteraing it makes the categories into indexes by using .index(category)\r\n",
        "    path=os.path.join(DATADIR,category) #create path to use all the images\r\n",
        "    for img in os.listdir(path):\r\n",
        "        img_array=imread(os.path.join(path,img))\r\n",
        "        #print(img_array)\r\n",
        "        #plt.imshow(img_array)\r\n",
        "        #break\r\n",
        "        img_resized=resize(img_array,(150,150,3))\r\n",
        "        #print(img_resized)\r\n",
        "        flat_data.append(img_resized.flatten())\r\n",
        "        images.append(img_resized)\r\n",
        "        target.append(class_num)\r\n",
        "flat_data=np.array(flat_data)\r\n",
        "target=np.array(target)\r\n",
        "images=np.array(images)"
      ],
      "execution_count": null,
      "outputs": [
        {
          "output_type": "stream",
          "text": [
            "time: 48.6 s (started: 2020-12-21 10:37:41 +00:00)\n"
          ],
          "name": "stdout"
        }
      ]
    },
    {
      "cell_type": "code",
      "metadata": {
        "id": "kj_IMSoVcjqb",
        "colab": {
          "base_uri": "https://localhost:8080/"
        },
        "outputId": "1c031c47-1d05-4b4c-9497-f68c1c1e8ec3"
      },
      "source": [
        "target"
      ],
      "execution_count": 10,
      "outputs": [
        {
          "output_type": "execute_result",
          "data": {
            "text/plain": [
              "array([0, 0, 0, 0, 0, 0, 0, 0, 0, 0, 0, 0, 0, 0, 0, 0, 0, 0, 0, 0, 0, 0,\n",
              "       0, 0, 0, 0, 0, 0, 0, 0, 1, 1, 1, 1, 1, 1, 1, 1, 1, 1, 1, 1, 1, 1,\n",
              "       1, 1, 1, 1, 1, 1, 1, 1, 1, 1, 1, 1, 1, 1, 1, 1, 2, 2, 2, 2, 2, 2,\n",
              "       2, 2, 2, 2, 2, 2, 2, 2, 2, 2, 2, 2, 2, 2, 2, 2, 2, 2, 2, 2, 2, 2,\n",
              "       2, 2])"
            ]
          },
          "metadata": {
            "tags": []
          },
          "execution_count": 10
        },
        {
          "output_type": "stream",
          "text": [
            "time: 6.38 ms (started: 2020-12-21 12:07:44 +00:00)\n"
          ],
          "name": "stdout"
        }
      ]
    },
    {
      "cell_type": "code",
      "metadata": {
        "colab": {
          "base_uri": "https://localhost:8080/",
          "height": 298
        },
        "id": "tYOu2ph8Mrq9",
        "outputId": "2c342ded-a334-4f7f-fd39-0b8974d38cfc"
      },
      "source": [
        "unique,count=np.unique(target,return_counts=True)\r\n",
        "plt.bar(CATEGORIES,count)"
      ],
      "execution_count": 14,
      "outputs": [
        {
          "output_type": "execute_result",
          "data": {
            "text/plain": [
              "<BarContainer object of 3 artists>"
            ]
          },
          "metadata": {
            "tags": []
          },
          "execution_count": 14
        },
        {
          "output_type": "display_data",
          "data": {
            "image/png": "[encoded data removed]",
            "text/plain": [
              "<Figure size 432x288 with 1 Axes>"
            ]
          },
          "metadata": {
            "tags": [],
            "needs_background": "light"
          }
        },
        {
          "output_type": "stream",
          "text": [
            "time: 147 ms (started: 2020-12-21 12:51:44 +00:00)\n"
          ],
          "name": "stdout"
        }
      ]
    },
    {
      "cell_type": "code",
      "metadata": {
        "colab": {
          "base_uri": "https://localhost:8080/"
        },
        "id": "6sF8Hp4NWwbM",
        "outputId": "7114e130-fdc2-4d64-a454-9de742ef1d7a"
      },
      "source": [
        "#split data\r\n",
        "from sklearn.model_selection import train_test_split\r\n",
        "from sklearn.model_selection import GridSearchCV\r\n",
        "x_train,x_test,y_train,y_test=train_test_split(flat_data,target,test_size=0.3,random_state=100)\r\n",
        "from sklearn import svm\r\n",
        "param_grid=[\r\n",
        "          {'C':[1,10,100,100],'kernel':['linear']},\r\n",
        "          {'C':[1,10,100,100],'gamma':[0.001,0.0001],'kernel':['rbf']},\r\n",
        "]\r\n",
        "svc=svm.SVC(probability=True)\r\n",
        "clf=GridSearchCV(svc,param_grid)\r\n",
        "clf.fit(x_train,y_train)"
      ],
      "execution_count": 18,
      "outputs": [
        {
          "output_type": "execute_result",
          "data": {
            "text/plain": [
              "GridSearchCV(cv=None, error_score=nan,\n",
              "             estimator=SVC(C=1.0, break_ties=False, cache_size=200,\n",
              "                           class_weight=None, coef0=0.0,\n",
              "                           decision_function_shape='ovr', degree=3,\n",
              "                           gamma='scale', kernel='rbf', max_iter=-1,\n",
              "                           probability=True, random_state=None, shrinking=True,\n",
              "                           tol=0.001, verbose=False),\n",
              "             iid='deprecated', n_jobs=None,\n",
              "             param_grid=[{'C': [1, 10, 100, 100], 'kernel': ['linear']},\n",
              "                         {'C': [1, 10, 100, 100], 'gamma': [0.001, 0.0001],\n",
              "                          'kernel': ['rbf']}],\n",
              "             pre_dispatch='2*n_jobs', refit=True, return_train_score=False,\n",
              "             scoring=None, verbose=0)"
            ]
          },
          "metadata": {
            "tags": []
          },
          "execution_count": 18
        },
        {
          "output_type": "stream",
          "text": [
            "time: 1min 47s (started: 2020-12-21 15:59:32 +00:00)\n"
          ],
          "name": "stdout"
        }
      ]
    },
    {
      "cell_type": "code",
      "metadata": {
        "colab": {
          "base_uri": "https://localhost:8080/"
        },
        "id": "osT7YQmIBvAr",
        "outputId": "57dccd47-4b7e-40e5-92f3-a6f3c7b5e6b3"
      },
      "source": [
        "y_pred=clf.predict(x_test)\r\n",
        "y_pred"
      ],
      "execution_count": 21,
      "outputs": [
        {
          "output_type": "execute_result",
          "data": {
            "text/plain": [
              "array([1, 2, 0, 2, 1, 1, 0, 0, 0, 2, 0, 1, 0, 2, 0, 1, 1, 2, 2, 2, 0, 2,\n",
              "       1, 0, 1, 0, 0])"
            ]
          },
          "metadata": {
            "tags": []
          },
          "execution_count": 21
        },
        {
          "output_type": "stream",
          "text": [
            "time: 154 ms (started: 2020-12-21 16:07:49 +00:00)\n"
          ],
          "name": "stdout"
        }
      ]
    },
    {
      "cell_type": "code",
      "metadata": {
        "colab": {
          "base_uri": "https://localhost:8080/"
        },
        "id": "liMU8lJ7Doyp",
        "outputId": "7c36f120-634c-4780-c8eb-1304f420914a"
      },
      "source": [
        "y_test"
      ],
      "execution_count": 23,
      "outputs": [
        {
          "output_type": "execute_result",
          "data": {
            "text/plain": [
              "array([1, 2, 0, 0, 1, 1, 1, 1, 0, 2, 0, 1, 0, 2, 0, 2, 1, 2, 2, 2, 0, 0,\n",
              "       0, 0, 1, 0, 0])"
            ]
          },
          "metadata": {
            "tags": []
          },
          "execution_count": 23
        },
        {
          "output_type": "stream",
          "text": [
            "time: 4.22 ms (started: 2020-12-21 16:16:38 +00:00)\n"
          ],
          "name": "stdout"
        }
      ]
    },
    {
      "cell_type": "code",
      "metadata": {
        "colab": {
          "base_uri": "https://localhost:8080/"
        },
        "id": "QLBk0kmFFpuS",
        "outputId": "bac37d9c-c1ad-4a8e-b996-e7ccd96e1620"
      },
      "source": [
        "from sklearn.metrics import accuracy_score,confusion_matrix"
      ],
      "execution_count": 25,
      "outputs": [
        {
          "output_type": "stream",
          "text": [
            "time: 794 µs (started: 2020-12-21 16:17:34 +00:00)\n"
          ],
          "name": "stdout"
        }
      ]
    },
    {
      "cell_type": "code",
      "metadata": {
        "colab": {
          "base_uri": "https://localhost:8080/"
        },
        "id": "dxrXbXk_F3eJ",
        "outputId": "84bcaf18-1f6e-4dd0-bb12-0793603e20a4"
      },
      "source": [
        "accuracy_score(y_pred,y_test)"
      ],
      "execution_count": 27,
      "outputs": [
        {
          "output_type": "execute_result",
          "data": {
            "text/plain": [
              "0.7777777777777778"
            ]
          },
          "metadata": {
            "tags": []
          },
          "execution_count": 27
        },
        {
          "output_type": "stream",
          "text": [
            "time: 3.07 ms (started: 2020-12-21 16:29:19 +00:00)\n"
          ],
          "name": "stdout"
        }
      ]
    },
    {
      "cell_type": "code",
      "metadata": {
        "colab": {
          "base_uri": "https://localhost:8080/"
        },
        "id": "1XutrffmIjgq",
        "outputId": "3cb7c2b5-b21b-4f8b-ab51-6dbf4f192536"
      },
      "source": [
        "confusion_matrix(y_pred,y_test)"
      ],
      "execution_count": 29,
      "outputs": [
        {
          "output_type": "execute_result",
          "data": {
            "text/plain": [
              "array([[9, 2, 0],\n",
              "       [1, 6, 1],\n",
              "       [2, 0, 6]])"
            ]
          },
          "metadata": {
            "tags": []
          },
          "execution_count": 29
        },
        {
          "output_type": "stream",
          "text": [
            "time: 8.75 ms (started: 2020-12-21 17:32:55 +00:00)\n"
          ],
          "name": "stdout"
        }
      ]
    },
    {
      "cell_type": "code",
      "metadata": {
        "colab": {
          "base_uri": "https://localhost:8080/"
        },
        "id": "iLUTCAudXDxF",
        "outputId": "6b022aff-456c-4bc2-f85e-b7e3f7504b56"
      },
      "source": [
        "#save the model using pickle file\r\n",
        "import pickle\r\n",
        "pickle.dump(clf,open('img_model.p','wb'))\r\n"
      ],
      "execution_count": 31,
      "outputs": [
        {
          "output_type": "stream",
          "text": [
            "time: 52.8 ms (started: 2020-12-21 17:49:15 +00:00)\n"
          ],
          "name": "stdout"
        }
      ]
    },
    {
      "cell_type": "code",
      "metadata": {
        "colab": {
          "base_uri": "https://localhost:8080/"
        },
        "id": "Pbwe7yVBa2js",
        "outputId": "74fa9085-a00b-4146-d636-e1dc3c48c297"
      },
      "source": [
        "model=pickle.load(open('img_model.p','rb'))"
      ],
      "execution_count": 33,
      "outputs": [
        {
          "output_type": "stream",
          "text": [
            "time: 77.4 ms (started: 2020-12-21 18:03:37 +00:00)\n"
          ],
          "name": "stdout"
        }
      ]
    },
    {
      "cell_type": "code",
      "metadata": {
        "colab": {
          "base_uri": "https://localhost:8080/",
          "height": 336
        },
        "id": "5HbqEN43eI2S",
        "outputId": "a6ee8064-d686-4d89-b3c3-57c46465da67"
      },
      "source": [
        "#Testing a brand new image \r\n",
        "flat_data=[]\r\n",
        "url=input('Enter your url')\r\n",
        "img=imread(url)\r\n",
        "img_resized=resize(img,(150,150,3))\r\n",
        "flat_data.append(img_resized.flatten())\r\n",
        "flat_data=np.array(flat_data)\r\n",
        "print(img.shape)\r\n",
        "plt.imshow(img_resized)\r\n",
        "y_out=model.predict(flat_data)\r\n",
        "y_out=CATEGORIES[y_out[0]] # Need to know what is it and why y_out[0]\r\n",
        "print(f'PREDICTED OUTPUT:{y_out}')"
      ],
      "execution_count": 35,
      "outputs": [
        {
          "output_type": "stream",
          "text": [
            "Enter your urlhttps://upload.wikimedia.org/wikipedia/commons/d/da/Strawberry_ice_cream_cone_%285076899310%29.jpg\n",
            "(1024, 681, 3)\n",
            "PREDICTED OUTPUT:ice cream cone\n"
          ],
          "name": "stdout"
        },
        {
          "output_type": "display_data",
          "data": {
            "image/png": "[encoded data removed]",
            "text/plain": [
              "<Figure size 432x288 with 1 Axes>"
            ]
          },
          "metadata": {
            "tags": [],
            "needs_background": "light"
          }
        },
        {
          "output_type": "stream",
          "text": [
            "time: 34.5 s (started: 2020-12-21 19:39:26 +00:00)\n"
          ],
          "name": "stdout"
        }
      ]
    }
  ]
}